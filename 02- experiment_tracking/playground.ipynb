{
 "cells": [
  {
   "cell_type": "code",
   "execution_count": 1,
   "id": "05b4cec1-9204-4d44-876e-f214ddde2f4e",
   "metadata": {},
   "outputs": [],
   "source": [
    "import pandas as pd\n",
    "import pickle\n",
    "import seaborn as sns\n",
    "import matplotlib.pyplot as plt"
   ]
  },
  {
   "cell_type": "code",
   "execution_count": 2,
   "id": "f4e97640-7ea8-4871-bf65-24bb592ba0fd",
   "metadata": {},
   "outputs": [],
   "source": [
    "test = {\"alo\":\"meen\",\"ana\":\"mashy\"}"
   ]
  },
  {
   "cell_type": "code",
   "execution_count": 4,
   "id": "65091f60-410e-423e-8750-24015f6eee2c",
   "metadata": {},
   "outputs": [
    {
     "data": {
      "text/plain": [
       "'mashy'"
      ]
     },
     "execution_count": 4,
     "metadata": {},
     "output_type": "execute_result"
    }
   ],
   "source": [
    "test[\"ana\"]"
   ]
  },
  {
   "cell_type": "code",
   "execution_count": null,
   "id": "11198efc-215f-473c-ab63-3f577483b9da",
   "metadata": {},
   "outputs": [],
   "source": []
  }
 ],
 "metadata": {
  "kernelspec": {
   "display_name": "Python 3 (ipykernel)",
   "language": "python",
   "name": "python3"
  },
  "language_info": {
   "codemirror_mode": {
    "name": "ipython",
    "version": 3
   },
   "file_extension": ".py",
   "mimetype": "text/x-python",
   "name": "python",
   "nbconvert_exporter": "python",
   "pygments_lexer": "ipython3",
   "version": "3.9.12"
  }
 },
 "nbformat": 4,
 "nbformat_minor": 5
}
