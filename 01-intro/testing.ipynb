{
 "cells": [
  {
   "cell_type": "code",
   "execution_count": 1,
   "id": "f6aebfea-63d8-4fbf-8aa8-7cda5283aa9f",
   "metadata": {},
   "outputs": [
    {
     "name": "stdout",
     "output_type": "stream",
     "text": [
      "allo\n"
     ]
    }
   ],
   "source": [
    "print('allo')"
   ]
  },
  {
   "cell_type": "code",
   "execution_count": null,
   "id": "51cce33f-0c05-4368-901c-f2d561b16693",
   "metadata": {},
   "outputs": [],
   "source": []
  }
 ],
 "metadata": {
  "kernelspec": {
   "display_name": "Python 3 (ipykernel)",
   "language": "python",
   "name": "python3"
  },
  "language_info": {
   "codemirror_mode": {
    "name": "ipython",
    "version": 3
   },
   "file_extension": ".py",
   "mimetype": "text/x-python",
   "name": "python",
   "nbconvert_exporter": "python",
   "pygments_lexer": "ipython3",
   "version": "3.9.12"
  }
 },
 "nbformat": 4,
 "nbformat_minor": 5
}
